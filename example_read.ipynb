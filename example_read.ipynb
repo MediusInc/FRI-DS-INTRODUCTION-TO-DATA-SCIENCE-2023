{
 "cells": [
  {
   "cell_type": "markdown",
   "metadata": {},
   "source": [
    "# Example read from data"
   ]
  },
  {
   "cell_type": "markdown",
   "metadata": {},
   "source": [
    "## Libraries"
   ]
  },
  {
   "cell_type": "code",
   "execution_count": null,
   "metadata": {},
   "outputs": [],
   "source": [
    "import pandas as pd\n",
    "import os\n",
    "import datetime\n",
    "import matplotlib.pyplot as plt"
   ]
  },
  {
   "cell_type": "markdown",
   "metadata": {},
   "source": [
    "## Load data"
   ]
  },
  {
   "cell_type": "code",
   "execution_count": null,
   "metadata": {},
   "outputs": [],
   "source": [
    "path_to_ids_course_folder = '../../data/IDS_course/' # Change path to your data folder\n",
    "\n",
    "# Load data using pandas\n",
    "df = pd.read_parquet(os.path.join(path_to_ids_course_folder, 'TagLog.parquet'))\n",
    "\n",
    "# Select time frame\n",
    "df = df.loc[(df[\"CreatedTime\"] >= datetime.datetime(2023, 5, 13)) & (df[\"CreatedTime\"] <= datetime.datetime(2023, 5, 14))]\n",
    "\n",
    "# Sort data frame by time\n",
    "df = df.sort_values(by=['CreatedTime'])"
   ]
  },
  {
   "cell_type": "markdown",
   "metadata": {},
   "source": [
    "## Plot"
   ]
  },
  {
   "cell_type": "code",
   "execution_count": null,
   "metadata": {},
   "outputs": [],
   "source": [
    "# Plot using matplotlib\n",
    "plt.figure(figsize=(20, 7))\n",
    "\n",
    "# Plot each sensor separately\n",
    "for group_name, group_data in df.groupby(\"SensorId\"):\n",
    "    # Do not plot special sensors\n",
    "    if group_name not in [639, 878, 507, 899]:\n",
    "        plt.plot(group_data[\"CreatedTime\"], group_data['SensorValue'], label=f'Sensor {group_name}')\n",
    "\n",
    "plt.title(\"Sensor values between 13.5.2023 and 14.5.2023\")\n",
    "plt.ylabel(\"Sensor values\")\n",
    "plt.xlabel(\"Time\")\n",
    "\n",
    "# Show figure\n",
    "plt.show()"
   ]
  }
 ],
 "metadata": {
  "kernelspec": {
   "display_name": "anomaly_detection_3.10",
   "language": "python",
   "name": "python3"
  },
  "language_info": {
   "codemirror_mode": {
    "name": "ipython",
    "version": 3
   },
   "file_extension": ".py",
   "mimetype": "text/x-python",
   "name": "python",
   "nbconvert_exporter": "python",
   "pygments_lexer": "ipython3",
   "version": "3.10.13"
  }
 },
 "nbformat": 4,
 "nbformat_minor": 2
}
